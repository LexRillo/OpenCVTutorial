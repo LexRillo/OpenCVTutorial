{
 "cells": [
  {
   "cell_type": "markdown",
   "metadata": {},
   "source": [
    "# Read image and display"
   ]
  },
  {
   "cell_type": "code",
   "execution_count": null,
   "metadata": {},
   "outputs": [],
   "source": [
    "%matplotlib inline\n",
    "import os \n",
    "import numpy as np\n",
    "import cv2\n",
    "from matplotlib import pyplot as plt\n",
    "\n",
    "img = cv2.imread('meerkat.jpg', 1)\n",
    "#cv2.imshow('Original', img)\n",
    "#cv2.waitKey(0)\n",
    "#cv2.destroyAllWindows()\n",
    "\n",
    "# Also\n",
    "plt.imshow(img)\n",
    "plt.show()"
   ]
  },
  {
   "cell_type": "markdown",
   "metadata": {},
   "source": [
    "# Save image to different format"
   ]
  },
  {
   "cell_type": "code",
   "execution_count": null,
   "metadata": {},
   "outputs": [],
   "source": [
    "img = cv2.imread('meerkat.jpg', 1)\n",
    "#cv2.imshow('Original', img)\n",
    "cv2.imwrite('meerkat.png', img)\n",
    "#cv2.waitKey(0)\n",
    "#cv2.destroyAllWindows()\n",
    "\n",
    "# Also\n",
    "plt.imshow(img)\n",
    "plt.show()"
   ]
  },
  {
   "cell_type": "markdown",
   "metadata": {},
   "source": [
    "# Drawing a rectangle"
   ]
  },
  {
   "cell_type": "code",
   "execution_count": null,
   "metadata": {},
   "outputs": [],
   "source": [
    "pic = np.zeros((500, 500, 3), dtype ='uint8')\n",
    "\n",
    "cv2.rectangle(pic, (0,0), (500, 150), (123,200, 98), 3, lineType = 8, shift = 0)\n",
    "\n",
    "#cv2.imshow('dark', pic)\n",
    "#cv2.waitKey(0)\n",
    "#cv2.destroyAllWindows()\n",
    "\n",
    "# Also\n",
    "plt.imshow(pic)\n",
    "plt.show()"
   ]
  },
  {
   "cell_type": "markdown",
   "metadata": {},
   "source": [
    "# Drawing a line"
   ]
  },
  {
   "cell_type": "code",
   "execution_count": null,
   "metadata": {},
   "outputs": [],
   "source": [
    "pic = np.zeros((500, 500, 3), dtype ='uint8')\n",
    "\n",
    "cv2.line(pic, (350,350), (500, 350), (0,0, 255))\n",
    "\n",
    "#cv2.imshow('dark', pic)\n",
    "#cv2.waitKey(0)\n",
    "#cv2.destroyAllWindows()\n",
    "\n",
    "# Also\n",
    "plt.imshow(pic)\n",
    "plt.show()"
   ]
  },
  {
   "cell_type": "markdown",
   "metadata": {},
   "source": [
    "# Drawing a circle"
   ]
  },
  {
   "cell_type": "code",
   "execution_count": null,
   "metadata": {},
   "outputs": [],
   "source": [
    "pic = np.zeros((500, 500, 3), dtype ='uint8')\n",
    "\n",
    "color = (255, 0, 255)\n",
    "\n",
    "cv2.circle(pic, (250,250), 80, color)\n",
    "\n",
    "#cv2.imshow('dark', pic)\n",
    "#cv2.waitKey(0)\n",
    "#cv2.destroyAllWindows()\n",
    "\n",
    "# Also\n",
    "plt.imshow(pic)\n",
    "plt.show()"
   ]
  },
  {
   "cell_type": "markdown",
   "metadata": {},
   "source": [
    "# Drawing text"
   ]
  },
  {
   "cell_type": "code",
   "execution_count": null,
   "metadata": {},
   "outputs": [],
   "source": [
    "pic = np.zeros((500, 500, 3), dtype ='uint8')\n",
    "\n",
    "color = (255, 255, 255)\n",
    "\n",
    "font = cv2.FONT_HERSHEY_DUPLEX\n",
    "\n",
    "cv2.putText(pic, 'Udemy', (100,100), font, 3, color, 4, cv2.LINE_8)\n",
    "\n",
    "#cv2.imshow('dark', pic)\n",
    "#cv2.waitKey(0)\n",
    "#cv2.destroyAllWindows()\n",
    "\n",
    "# Also\n",
    "plt.imshow(pic)\n",
    "plt.show()"
   ]
  },
  {
   "cell_type": "markdown",
   "metadata": {},
   "source": [
    "# Putting all together"
   ]
  },
  {
   "cell_type": "code",
   "execution_count": null,
   "metadata": {},
   "outputs": [],
   "source": [
    "pic = np.zeros((500, 500, 3), dtype ='uint8')\n",
    "\n",
    "cv2.rectangle(pic, (0,0), (500, 150), (123,200, 98), 3, lineType = 8, shift = 0)\n",
    "\n",
    "color = (255, 255, 255)\n",
    "\n",
    "font = cv2.FONT_HERSHEY_DUPLEX\n",
    "\n",
    "cv2.putText(pic, 'Udemy', (100,100), font, 3, color, 4, cv2.LINE_8)\n",
    "\n",
    "color2 = (255, 0, 255)\n",
    "cv2.circle(pic, (250,250), 80, color)\n",
    "\n",
    "color3 = (0,0, 255)\n",
    "cv2.line(pic, (133,138), (388, 133), color3)\n",
    "\n",
    "#cv2.imshow('dark', pic)\n",
    "#cv2.waitKey(0)\n",
    "#cv2.destroyAllWindows()\n",
    "\n",
    "# Also\n",
    "plt.imshow(pic)\n",
    "plt.show()"
   ]
  },
  {
   "cell_type": "code",
   "execution_count": null,
   "metadata": {},
   "outputs": [],
   "source": []
  }
 ],
 "metadata": {
  "kernelspec": {
   "display_name": "Python 3",
   "language": "python",
   "name": "python3"
  },
  "language_info": {
   "codemirror_mode": {
    "name": "ipython",
    "version": 3
   },
   "file_extension": ".py",
   "mimetype": "text/x-python",
   "name": "python",
   "nbconvert_exporter": "python",
   "pygments_lexer": "ipython3",
   "version": "3.7.0"
  }
 },
 "nbformat": 4,
 "nbformat_minor": 1
}
